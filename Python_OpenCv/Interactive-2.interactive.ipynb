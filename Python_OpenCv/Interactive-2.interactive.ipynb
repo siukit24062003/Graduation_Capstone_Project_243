{
 "cells": [
  {
   "cell_type": "markdown",
   "id": "c1ee6788",
   "metadata": {},
   "source": [
    "_Connecting to Python 3.13.1..._"
   ]
  }
 ],
 "metadata": {
  "language_info": {
   "name": "python"
  }
 },
 "nbformat": 4,
 "nbformat_minor": 5
}
